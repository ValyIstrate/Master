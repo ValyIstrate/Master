{
    "metadata": {
        "kernelspec": {
            "language": "python",
            "display_name": "Python 3",
            "name": "python3"
        },
        "language_info": {
            "name": "python",
            "version": "3.10.14",
            "mimetype": "text/x-python",
            "codemirror_mode": {
                "name": "ipython",
                "version": 3
            },
            "pygments_lexer": "ipython3",
            "nbconvert_exporter": "python",
            "file_extension": ".py"
        },
        "kaggle": {
            "accelerator": "nvidiaTeslaT4",
            "dataSources": [
                {
                    "sourceId": 85904,
                    "databundleVersionId": 9723326,
                    "sourceType": "competition"
                }
            ],
            "dockerImageVersionId": 30775,
            "isInternetEnabled": false,
            "language": "python",
            "sourceType": "notebook",
            "isGpuEnabled": true
        }
    },
    "nbformat_minor": 4,
    "nbformat": 4,
    "cells": [
        {
            "cell_type": "code",
            "source": "import torch\nfrom torch import nn, Tensor\nfrom torch.utils.data import Dataset, DataLoader\nfrom torchvision.datasets import CIFAR100\nimport pandas as pd\nfrom torchvision.transforms import v2\nfrom torch.backends import cudnn\nfrom torch import GradScaler\nfrom torch import optim\nfrom tqdm import tqdm\nfrom torchvision import tv_tensors\nimport random",
            "metadata": {
                "_uuid": "8f2839f25d086af736a60e9eeb907d3b93b6e0e5",
                "_cell_guid": "b1076dfc-b9ad-4769-8c92-a6c4dae69d19",
                "execution": {
                    "iopub.status.busy": "2024-10-17T18:43:29.920522Z",
                    "iopub.execute_input": "2024-10-17T18:43:29.921213Z",
                    "iopub.status.idle": "2024-10-17T18:43:34.687351Z",
                    "shell.execute_reply.started": "2024-10-17T18:43:29.921166Z",
                    "shell.execute_reply": "2024-10-17T18:43:34.686561Z"
                },
                "trusted": true
            },
            "outputs": [],
            "execution_count": 1
        },
        {
            "cell_type": "code",
            "source": "device = torch.device('cuda')\nprint(torch.cuda.is_available())\ncudnn.benchmark = True\npin_memory = True\nenable_half = True  # Disable for CPU, it is slower!\nscaler = GradScaler(device, enabled=enable_half)",
            "metadata": {
                "execution": {
                    "iopub.status.busy": "2024-10-17T18:43:34.689135Z",
                    "iopub.execute_input": "2024-10-17T18:43:34.689567Z",
                    "iopub.status.idle": "2024-10-17T18:43:34.747863Z",
                    "shell.execute_reply.started": "2024-10-17T18:43:34.689534Z",
                    "shell.execute_reply": "2024-10-17T18:43:34.746871Z"
                },
                "trusted": true
            },
            "outputs": [
                {
                    "name": "stdout",
                    "text": "True\n",
                    "output_type": "stream"
                }
            ],
            "execution_count": 2
        },
        {
            "cell_type": "code",
            "source": "class SimpleCachedDataset(Dataset):\n    def __init__(self, dataset):\n        # Runtime transforms are not implemented in this simple cached dataset.\n        self.data = tuple([x for x in dataset])\n\n    def __len__(self):\n        return len(self.data)\n\n    def __getitem__(self, i):\n        return self.data[i]\n",
            "metadata": {
                "execution": {
                    "iopub.status.busy": "2024-10-17T18:43:34.749101Z",
                    "iopub.execute_input": "2024-10-17T18:43:34.749428Z",
                    "iopub.status.idle": "2024-10-17T18:43:34.759101Z",
                    "shell.execute_reply.started": "2024-10-17T18:43:34.749395Z",
                    "shell.execute_reply": "2024-10-17T18:43:34.758215Z"
                },
                "trusted": true
            },
            "outputs": [],
            "execution_count": 3
        },
        {
            "cell_type": "code",
            "source": "basic_transforms = v2.Compose([\n    v2.ToImage(),\n    v2.ToDtype(torch.float32, scale=True),\n    v2.Normalize((0.5, 0.5, 0.5), (0.25, 0.25, 0.25), inplace=True)\n])\n\ntrain_set = CIFAR100('/kaggle/input/fii-atnn-2024-assignment-2', download=False, train=True, transform=basic_transforms)\ntest_set = CIFAR100('/kaggle/input/fii-atnn-2024-assignment-2', download=False, train=False, transform=basic_transforms)\ntrain_set = SimpleCachedDataset(train_set)\ntest_set = SimpleCachedDataset(test_set)\n\ntrain_loader = DataLoader(train_set, batch_size=64, shuffle=True, pin_memory=pin_memory)\ntest_loader = DataLoader(test_set, batch_size=500, pin_memory=pin_memory)\n",
            "metadata": {
                "execution": {
                    "iopub.status.busy": "2024-10-17T18:43:34.761209Z",
                    "iopub.execute_input": "2024-10-17T18:43:34.761509Z",
                    "iopub.status.idle": "2024-10-17T18:43:56.166093Z",
                    "shell.execute_reply.started": "2024-10-17T18:43:34.761478Z",
                    "shell.execute_reply": "2024-10-17T18:43:56.165311Z"
                },
                "trusted": true
            },
            "outputs": [],
            "execution_count": 4
        },
        {
            "cell_type": "code",
            "source": "class VGG16(nn.Module):\n    def __init__(self):\n        super(VGG16, self).__init__()\n\n        self.layers = nn.Sequential(\n            # Block 1\n            nn.Conv2d(3, 64, kernel_size=3, padding=1),\n            nn.BatchNorm2d(64),\n            nn.ReLU(inplace=True),\n            nn.Conv2d(64, 64, kernel_size=3, padding=1),\n            nn.BatchNorm2d(64),\n            nn.ReLU(inplace=True),\n            nn.MaxPool2d(kernel_size=2, stride=2),\n            # Block 2\n            nn.Conv2d(64, 128, kernel_size=3, padding=1),\n            nn.BatchNorm2d(128),\n            nn.ReLU(inplace=True),\n            nn.Conv2d(128, 128, kernel_size=3, padding=1),\n            nn.BatchNorm2d(128),\n            nn.ReLU(inplace=True),\n            nn.MaxPool2d(kernel_size=2, stride=2),\n            # Block 3\n            nn.Conv2d(128, 256, kernel_size=3, padding=1),\n            nn.BatchNorm2d(256),\n            nn.ReLU(inplace=True),\n            nn.Conv2d(256, 256, kernel_size=3, padding=1),\n            nn.BatchNorm2d(256),\n            nn.ReLU(inplace=True),\n            nn.Conv2d(256, 256, kernel_size=3, padding=1),\n            nn.BatchNorm2d(256),\n            nn.ReLU(inplace=True),\n            nn.MaxPool2d(kernel_size=2, stride=2),\n            # Block 4\n            nn.Conv2d(256, 512, kernel_size=3, padding=1),\n            nn.BatchNorm2d(512),\n            nn.ReLU(inplace=True),\n            nn.Conv2d(512, 512, kernel_size=3, padding=1),\n            nn.BatchNorm2d(512),\n            nn.ReLU(inplace=True),\n            nn.Conv2d(512, 512, kernel_size=3, padding=1),\n            nn.BatchNorm2d(512),\n            nn.ReLU(inplace=True),\n            nn.MaxPool2d(kernel_size=2, stride=2),\n            # Block 5\n            nn.Conv2d(512, 512, kernel_size=3, padding=1),\n            nn.BatchNorm2d(512),\n            nn.ReLU(inplace=True),\n            nn.Conv2d(512, 512, kernel_size=3, padding=1),\n            nn.BatchNorm2d(512),\n            nn.ReLU(inplace=True),\n            nn.Conv2d(512, 512, kernel_size=3, padding=1),\n            nn.BatchNorm2d(512),\n            nn.ReLU(inplace=True),\n            nn.MaxPool2d(kernel_size=2, stride=2),\n            # Classifier\n            nn.Flatten(),\n            nn.Linear(512, 100)\n        )\n\n    def forward(self, x: Tensor) -> Tensor:\n        return self.layers(x)\n",
            "metadata": {
                "execution": {
                    "iopub.status.busy": "2024-10-17T18:43:56.167246Z",
                    "iopub.execute_input": "2024-10-17T18:43:56.167550Z",
                    "iopub.status.idle": "2024-10-17T18:43:56.182581Z",
                    "shell.execute_reply.started": "2024-10-17T18:43:56.167518Z",
                    "shell.execute_reply": "2024-10-17T18:43:56.181500Z"
                },
                "trusted": true
            },
            "outputs": [],
            "execution_count": 5
        },
        {
            "cell_type": "code",
            "source": "model = VGG16().to(device)\nmodel = torch.jit.script(model)\ncriterion = nn.CrossEntropyLoss()\noptimizer = optim.SGD(model.parameters(), lr=0.1, fused=True)\n",
            "metadata": {
                "execution": {
                    "iopub.status.busy": "2024-10-17T18:43:56.183764Z",
                    "iopub.execute_input": "2024-10-17T18:43:56.184116Z",
                    "iopub.status.idle": "2024-10-17T18:43:56.787647Z",
                    "shell.execute_reply.started": "2024-10-17T18:43:56.184081Z",
                    "shell.execute_reply": "2024-10-17T18:43:56.786905Z"
                },
                "trusted": true
            },
            "outputs": [],
            "execution_count": 6
        },
        {
            "cell_type": "code",
            "source": "def train():\n    model.train()\n    correct = 0\n    total = 0\n    \n    for inputs, targets in train_loader:\n        inputs, targets = inputs.to(device, non_blocking=True), targets.to(device, non_blocking=True)\n        with torch.autocast(device.type, enabled=enable_half):\n            outputs = model(inputs)\n            loss = criterion(outputs, targets)\n        scaler.scale(loss).backward()\n        scaler.step(optimizer)\n        scaler.update()\n        optimizer.zero_grad()\n\n        predicted = outputs.argmax(1)\n        total += targets.size(0)\n        correct += predicted.eq(targets).sum().item()\n    \n    return 100.0 * correct / total",
            "metadata": {
                "execution": {
                    "iopub.status.busy": "2024-10-17T18:43:56.788737Z",
                    "iopub.execute_input": "2024-10-17T18:43:56.789114Z",
                    "iopub.status.idle": "2024-10-17T18:43:56.796993Z",
                    "shell.execute_reply.started": "2024-10-17T18:43:56.789075Z",
                    "shell.execute_reply": "2024-10-17T18:43:56.795908Z"
                },
                "trusted": true
            },
            "outputs": [],
            "execution_count": 7
        },
        {
            "cell_type": "code",
            "source": "@torch.inference_mode()\ndef val():\n    model.eval()\n    correct = 0\n    total = 0\n\n    for inputs, targets in test_loader:\n        inputs, targets = inputs.to(device, non_blocking=True), targets.to(device, non_blocking=True)\n        with torch.autocast(device.type, enabled=enable_half):\n            outputs = model(inputs)\n\n        predicted = outputs.argmax(1)\n        total += targets.size(0)\n        correct += predicted.eq(targets).sum().item()\n    \n    return 100.0 * correct / total",
            "metadata": {
                "execution": {
                    "iopub.status.busy": "2024-10-17T18:43:56.798266Z",
                    "iopub.execute_input": "2024-10-17T18:43:56.799026Z",
                    "iopub.status.idle": "2024-10-17T18:43:56.809062Z",
                    "shell.execute_reply.started": "2024-10-17T18:43:56.798985Z",
                    "shell.execute_reply": "2024-10-17T18:43:56.808217Z"
                },
                "trusted": true
            },
            "outputs": [],
            "execution_count": 8
        },
        {
            "cell_type": "code",
            "source": "@torch.inference_mode()\ndef inference():\n    model.eval()\n    \n    labels = []\n    \n    for inputs, _ in test_loader:\n        inputs = inputs.to(device, non_blocking=True)\n        with torch.autocast(device.type, enabled=enable_half):\n            outputs = model(inputs)\n\n        predicted = outputs.argmax(1).tolist()\n        labels.extend(predicted)\n    \n    return labels",
            "metadata": {
                "execution": {
                    "iopub.status.busy": "2024-10-17T18:43:56.810168Z",
                    "iopub.execute_input": "2024-10-17T18:43:56.811070Z",
                    "iopub.status.idle": "2024-10-17T18:43:56.817500Z",
                    "shell.execute_reply.started": "2024-10-17T18:43:56.811036Z",
                    "shell.execute_reply": "2024-10-17T18:43:56.816577Z"
                },
                "trusted": true
            },
            "outputs": [],
            "execution_count": 9
        },
        {
            "cell_type": "code",
            "source": "best = 0.0\nepochs = list(range(50))\nwith tqdm(epochs) as tbar:\n    for epoch in tbar:\n        train_acc = train()\n        val_acc = val()\n        if val_acc > best:\n            best = val_acc\n        tbar.set_description(f\"Train: {train_acc:.2f}, Val: {val_acc:.2f}, Best: {best:.2f}\")",
            "metadata": {
                "execution": {
                    "iopub.status.busy": "2024-10-17T18:43:56.820410Z",
                    "iopub.execute_input": "2024-10-17T18:43:56.820743Z",
                    "iopub.status.idle": "2024-10-17T18:55:20.143821Z",
                    "shell.execute_reply.started": "2024-10-17T18:43:56.820709Z",
                    "shell.execute_reply": "2024-10-17T18:55:20.142827Z"
                },
                "trusted": true
            },
            "outputs": [
                {
                    "name": "stderr",
                    "text": "Train: 99.97, Val: 59.75, Best: 60.33: 100%|██████████| 50/50 [11:23<00:00, 13.67s/it]\n",
                    "output_type": "stream"
                }
            ],
            "execution_count": 10
        },
        {
            "cell_type": "code",
            "source": "data = {\n    \"ID\": [],\n    \"target\": []\n}\n\n\nfor i, label in enumerate(inference()):\n    data[\"ID\"].append(i)\n    data[\"target\"].append(label)\n\ndf = pd.DataFrame(data)\ndf.to_csv(\"/kaggle/working/submission.csv\", index=False)",
            "metadata": {
                "execution": {
                    "iopub.status.busy": "2024-10-17T18:55:20.145260Z",
                    "iopub.execute_input": "2024-10-17T18:55:20.145714Z",
                    "iopub.status.idle": "2024-10-17T18:55:20.849687Z",
                    "shell.execute_reply.started": "2024-10-17T18:55:20.145669Z",
                    "shell.execute_reply": "2024-10-17T18:55:20.848880Z"
                },
                "trusted": true
            },
            "outputs": [],
            "execution_count": 11
        },
        {
            "cell_type": "code",
            "source": "",
            "metadata": {
                "trusted": true
            },
            "outputs": [],
            "execution_count": null
        }
    ]
}